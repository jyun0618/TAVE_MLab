{
  "nbformat": 4,
  "nbformat_minor": 0,
  "metadata": {
    "colab": {
      "provenance": [],
      "toc_visible": true,
      "authorship_tag": "ABX9TyMLv6pXteZ+zkPwfP7xs7jE",
      "include_colab_link": true
    },
    "kernelspec": {
      "name": "python3",
      "display_name": "Python 3"
    },
    "language_info": {
      "name": "python"
    }
  },
  "cells": [
    {
      "cell_type": "markdown",
      "metadata": {
        "id": "view-in-github",
        "colab_type": "text"
      },
      "source": [
        "<a href=\"https://colab.research.google.com/github/jyun0618/TAVE_MLab/blob/main/Chapter04/jiyun_practice.ipynb\" target=\"_parent\"><img src=\"https://colab.research.google.com/assets/colab-badge.svg\" alt=\"Open In Colab\"/></a>"
      ]
    },
    {
      "cell_type": "markdown",
      "source": [
        "# CHAPTER 4 모델 훈련"
      ],
      "metadata": {
        "id": "vUAYxXWnodVY"
      }
    },
    {
      "cell_type": "markdown",
      "source": [
        "### #1\n",
        "> 수백만 개의 특성을 가진 훈련 세트에서는 어떤 선형 회귀 알고리즘을 사용할 수 있을까요?"
      ],
      "metadata": {
        "id": "y8VgdBOMobtY"
      }
    },
    {
      "cell_type": "markdown",
      "source": [
        "확률적 경사 하강법(SGD) 또는 미니배치 경사 하강법\n",
        "\n",
        "메모리 크기가 훈련 세트에 적당하다면 배치 경사 하강법도 가능\n",
        "\n",
        "**정규 방정식, SVD 방법은 계산 복잡도가 특성 개수에 따라 매우 빠르게 증가하기 때문에 사용 불가**"
      ],
      "metadata": {
        "id": "eXcR3uu0o32G"
      }
    },
    {
      "cell_type": "markdown",
      "source": [
        "### #2\n",
        "> 훈련 세트에 있는 특성들이 서로 다른 스케일을 가지고 있습니다. 이런 데이터에 잘 작동하지 않는 알고리즘은 무엇일까요? 그 이유는 무엇일까요? 이 문제를 어떻게 해결 할 수 있을까요?"
      ],
      "metadata": {
        "id": "lRFALX_ko7dX"
      }
    },
    {
      "cell_type": "markdown",
      "source": [
        "특성 스케일이 매우 다르면 비용함수가 길쭉한 타원 그릇 형태 → 경사 하강법 알고리즘 수렴이 오래걸림\n",
        "\n",
        "따라서 모델 훈련 전 데이터 스케일 조절 필요\n",
        "\n",
        "---\n",
        "\n",
        "+\n",
        "정규 방정식, SVD는 스케일 조정 없이도 잘 작동\n",
        "\n",
        "규제가 있는 모델은 특성 스케일이 다르면 지역 최적점 수렴 가능성\n",
        "\n",
        "규제는 가중치가 커지지 못하게 제약 → 특성값이 작으면 무시되는 경향\n"
      ],
      "metadata": {
        "id": "WLB5niltpNr_"
      }
    },
    {
      "cell_type": "markdown",
      "source": [
        "### #3\n",
        "> 경사 하강법으로 로지스틱 회귀 모델을 훈련시킬 때 지역 최솟값에 갇힐 가능성이 있을까요?"
      ],
      "metadata": {
        "id": "Yx8YXNqypXfN"
      }
    },
    {
      "cell_type": "markdown",
      "source": [
        "로지스틱 회귀 모델의 비용함수는 볼록 함수이므로 지역 최솟값에 갇힐 가능성이 없음"
      ],
      "metadata": {
        "id": "WRZnbsZeprvQ"
      }
    },
    {
      "cell_type": "markdown",
      "source": [
        "### #4\n",
        "> 충분히 오랫동안 실행하면 모든 경사 하강법 알고리즘이 같은 모델을 만들어낼까요?"
      ],
      "metadata": {
        "id": "JIs0VtoDp966"
      }
    },
    {
      "cell_type": "markdown",
      "source": [
        "볼록함수이며 학습률이 너무 크지 않으면 모든 알고리즘이 전역 최적값에 도달할 것\n",
        "\n",
        "그러나 학습률을 점진적으로 감소시키지 않으면 SGD와 미니배치 GD는 최적점에 수렴하지 못하고 전역 최적점 주변을 맴돈다. 즉, 매우 오랫동안 훈련해도 조금씩 다른 모델을 만들게 된다."
      ],
      "metadata": {
        "id": "p5_zdQ7xqNA6"
      }
    },
    {
      "cell_type": "markdown",
      "source": [
        "### #5\n",
        "> 배치 경사 하강법을 사용하고 에포크마다 검증 오차를 그래프로 나타내봤습니다. 검증 오차가 일정하게 상승하고 있다면 어떤 일이 일어나고 있는 걸까요? 이 문제를 어떻게 해결할 수 있나요?"
      ],
      "metadata": {
        "id": "l8wULxWCqS3a"
      }
    },
    {
      "cell_type": "markdown",
      "source": [
        "훈련 오차도 함께 올라간다면 학습률이 너무 높고 알고리즘이 발산하기 때문 → 학습률 낮추기\n",
        "\n",
        "그러나 훈련 오차가 올라가지 않는다면 과대적합 → 훈련 중단\n"
      ],
      "metadata": {
        "id": "HHSZE0EHqkE6"
      }
    },
    {
      "cell_type": "markdown",
      "source": [
        "### #6\n",
        "> 검증 오차가 상승하면 미니배치 경사 하강법을 즉시 중단하는 것이 좋은 방법인가요?"
      ],
      "metadata": {
        "id": "xeCM55OWqmwI"
      }
    },
    {
      "cell_type": "markdown",
      "source": [
        "SGD나 미니배치 GD는 무작위성으로 인해 매 훈련 반복마다 학습의 진전을 보장하지 못 함\n",
        "\n",
        "즉시 중단하기 보단 정기적으로 모델을 저장, 오랫동안 진전이 없을 때 최상의 모델로 복원하는 것이 좋음"
      ],
      "metadata": {
        "id": "wThc5yXH8NrP"
      }
    },
    {
      "cell_type": "markdown",
      "source": [
        "### #7\n",
        "> (우리가 언급한 것 중에서) 어떤 경사 하강법 알고리즘이 가장 빠르게 최적 솔루션에 근접해질까요? 실제로 수렴하는 것은 어떤 것인가요? 다른 방법들도 수렴하게 만들 수 있나요?"
      ],
      "metadata": {
        "id": "CqqoFwHjq3bm"
      }
    },
    {
      "cell_type": "markdown",
      "source": [
        "확률적 경사 하강법이 가장 먼저 전역 최적점 근처에 도달\n",
        "\n",
        "그러나 학습률을 점진적으로 감소시키지 않으면 SGD와 미니배치 GD는 최적점 주변을 맴돌 것이며 훈련 시간이 충분하다면 배치 경사 하강법만 실제로 수렴"
      ],
      "metadata": {
        "id": "a-bKuyM_rE5O"
      }
    },
    {
      "cell_type": "markdown",
      "source": [
        "### #8\n",
        "> 다항 회귀를 사용했을 때 학습 곡선을 보니 훈련 오차와 검증 오차 사이에 간격이 큽니다. 무슨 일이 생긴 걸까요? 이 문제를 해결하는 세 가지 방법은 무엇인가요?"
      ],
      "metadata": {
        "id": "SsvfMaWHrJqF"
      }
    },
    {
      "cell_type": "markdown",
      "source": [
        "과대적합\n",
        "\n",
        "1. 다항 차수 낮추기(자유도 낮추기)\n",
        "2. 모델 규제(비용 함수에 릿지, 라쏘 추가)\n",
        "3. 훈련 세트 크기 증가 시키기\n"
      ],
      "metadata": {
        "id": "1AEwdVmnrmpb"
      }
    },
    {
      "cell_type": "markdown",
      "source": [
        "### #9\n",
        ">릿지 회귀를 사용했을 때 훈련 오차와 검증 오차가 거의 비슷하고 둘 다 높았습니다. 이 모델은 높은 편향이 문제인가요, 아님 높은 분산이 문제인가요? 규제 하이퍼파라미터 α를 증가시켜야 할까요, 아니면 줄여야 할까요?"
      ],
      "metadata": {
        "id": "FK1h-_7Ev-5v"
      }
    },
    {
      "cell_type": "markdown",
      "source": [
        "훈련오차와 검증오차가 비슷하고 높아면 과소적합 가능성이 높음\n",
        "→ 과소적합\n",
        "* 높은 편향: 모델이 데이터의 복잡한 패턴을 잘 학습하지 못하고, 지나치게 단순한 추정 → 과소적합\n",
        "* 높은 분산: 모델이 훈련 데이터에 너무 민감하게 반응해서, 작은 변화에도 결과가 크게 달라지는 상황 → 과대적합\n",
        "\n",
        "높은 편향을 가지는 모델이므로 규제 하이퍼파라미터 α를 감소시켜야 함"
      ],
      "metadata": {
        "id": "VU2hLGI59e_L"
      }
    },
    {
      "cell_type": "markdown",
      "source": [
        "### #10\n",
        "> 다음과 같이 사용해야 하는 이유는 무엇인가요?\n",
        "\n",
        "> a. 평범한 선형 회귀(즉, 아무런 규제가 없는 모델) 대신 릿지 회귀\n",
        ">\n",
        "> b. 릿지 회귀 대신 라쏘 회귀\n",
        ">\n",
        ">c. 라쏘 회귀 대신 엘라스틱넷 회귀"
      ],
      "metadata": {
        "id": "un4eJruLwZxo"
      }
    },
    {
      "cell_type": "markdown",
      "source": [
        "a. 일반적으로 규제가 있는 모델이 없는 모델보다 성능이 좋음\n",
        "\n",
        "b. 라쏘 회귀는 가중치를 완전히 0으로 만드는 경향 → 특성 선택의 효과를 가지므로 단지 몇 개의 특성만 실제 유용할 것이라고 의심될 때 사용\n",
        "\n",
        "c. 라쏘 회귀는 몇 개의 특성이 강하게 연관 또는 훈련 샘플보다 특성이 많을 경우 불규칙하게 행동하므로 엘라스틱넷 회귀가 선호됨"
      ],
      "metadata": {
        "id": "w0gyCX66wuyK"
      }
    },
    {
      "cell_type": "markdown",
      "source": [
        "### #11\n",
        "> 사진을 낮과 밤, 실내와 실외로 분류하려 합니다. 두 개의 로지스틱 회귀 분류기를 만들어야 할까요, 아니면 하나의 소프트맥스 회귀 분류기를 만들어야 할까요?"
      ],
      "metadata": {
        "id": "Q55f7wUfxOJy"
      }
    },
    {
      "cell_type": "markdown",
      "source": [
        "실외와 실내, 낮과 밤 → 배타적 클래스가 아님. 즉, 네 가지 조합이 모두 가능\n",
        "\n",
        "두 개의 로지스틱 회귀 분류기"
      ],
      "metadata": {
        "id": "YPWVjavDxbvg"
      }
    },
    {
      "cell_type": "markdown",
      "source": [
        "### #12\n",
        "> 사이킷런을 사용하지 않고 넘파이만 사용하여 조기 종료를 사용한 배치 경사 하강법으로 소프트 맥스 회귀를 구현해보세요. 이를 붓꽃 데이터셋 같은 분류 작업에 사용해보세요."
      ],
      "metadata": {
        "id": "zshmVDuJxe2I"
      }
    },
    {
      "cell_type": "code",
      "source": [
        "# 데이터 로드\n",
        "from sklearn import datasets\n",
        "import numpy as np\n",
        "iris = datasets.load_iris()"
      ],
      "metadata": {
        "id": "lB2fo7R2CmRd"
      },
      "execution_count": 15,
      "outputs": []
    },
    {
      "cell_type": "code",
      "source": [
        "X = iris[\"data\"][:, (2, 3)]  # 꽃잎 길이, 꽃잎 넓이\n",
        "y = iris[\"target\"]"
      ],
      "metadata": {
        "id": "itcWOsjXEaiW"
      },
      "execution_count": 13,
      "outputs": []
    },
    {
      "cell_type": "markdown",
      "source": [
        "* 편향항 추가\n",
        "선형대수 연산으로 편향(intercept)과 가중치를 하나의 벡터로 처리"
      ],
      "metadata": {
        "id": "CSbR1-_HGYkr"
      }
    },
    {
      "cell_type": "code",
      "source": [
        "# 1이 들어있는 열 벡터를 생성\n",
        "X_with_bias = np.c_[np.ones([len(X), 1]), X]"
      ],
      "metadata": {
        "id": "SN72fdhjFKD1"
      },
      "execution_count": 18,
      "outputs": []
    },
    {
      "cell_type": "code",
      "source": [
        "np.random.seed(2042)"
      ],
      "metadata": {
        "id": "SQwMP4HoGtFP"
      },
      "execution_count": 19,
      "outputs": []
    },
    {
      "cell_type": "markdown",
      "source": [
        "* train/validation/test set 분할"
      ],
      "metadata": {
        "id": "O_VnnhWfPWxx"
      }
    },
    {
      "cell_type": "code",
      "source": [
        "# train 0.6, validation 0.2, test 0.2\n",
        "test_ratio = 0.2\n",
        "validation_ratio = 0.2\n",
        "total_size = len(X_with_bias)\n",
        "\n",
        "test_size = int(total_size * test_ratio)\n",
        "validation_size = int(total_size * validation_ratio)\n",
        "train_size = total_size - test_size - validation_size\n",
        "\n",
        "rnd_indices = np.random.permutation(total_size) #데이터를 무작위로 섞기 위해 인덱스를 랜덤하게\n",
        "\n",
        "# 각각의 size만큼 분할\n",
        "X_train = X_with_bias[rnd_indices[:train_size]]\n",
        "y_train = y[rnd_indices[:train_size]]\n",
        "X_valid = X_with_bias[rnd_indices[train_size:-test_size]]\n",
        "y_valid = y[rnd_indices[train_size:-test_size]]\n",
        "X_test = X_with_bias[rnd_indices[-test_size:]]\n",
        "y_test = y[rnd_indices[-test_size:]]"
      ],
      "metadata": {
        "id": "Oyxu7epBHjrC"
      },
      "execution_count": 20,
      "outputs": []
    },
    {
      "cell_type": "markdown",
      "source": [
        "* one-hot encoding\n",
        "\n",
        "주어진 샘플에 대한 클래스 확률이 원-핫 벡터이다"
      ],
      "metadata": {
        "id": "mZdhMkMPRDrz"
      }
    },
    {
      "cell_type": "code",
      "source": [
        "def to_one_hot(y):\n",
        "    n_classes = y.max() + 1\n",
        "    m = len(y)\n",
        "    Y_one_hot = np.zeros((m, n_classes))\n",
        "    Y_one_hot[np.arange(m), y] = 1 # 각 행마다 y값에 해당하는 열의 위치를 1로 바꿔줌\n",
        "    return Y_one_hot"
      ],
      "metadata": {
        "id": "4zgrYYPXPWEX"
      },
      "execution_count": 21,
      "outputs": []
    },
    {
      "cell_type": "code",
      "source": [
        "# 각 세트에 적용\n",
        "Y_train_one_hot = to_one_hot(y_train)\n",
        "Y_valid_one_hot = to_one_hot(y_valid)\n",
        "Y_test_one_hot = to_one_hot(y_test)"
      ],
      "metadata": {
        "id": "OUsUeqbARZbI"
      },
      "execution_count": 22,
      "outputs": []
    },
    {
      "cell_type": "markdown",
      "source": [
        "* 소프트 맥스 함수\n",
        "![image.png](data:image/png;base64,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)"
      ],
      "metadata": {
        "id": "fCINnSS6RqZt"
      }
    },
    {
      "cell_type": "code",
      "source": [
        "def softmax(logits):\n",
        "    exps = np.exp(logits)\n",
        "    exp_sums = np.sum(exps, axis=1, keepdims=True)\n",
        "    return exps / exp_sums"
      ],
      "metadata": {
        "id": "G3E19263Ri4H"
      },
      "execution_count": 23,
      "outputs": []
    },
    {
      "cell_type": "markdown",
      "source": [
        "* 입출력 개수 정의"
      ],
      "metadata": {
        "id": "iKUHm1xySyn8"
      }
    },
    {
      "cell_type": "code",
      "source": [
        "n_inputs = X_train.shape[1] # == 3 (특성 2와 편향)\n",
        "n_outputs = len(np.unique(y_train))   # == 3 (3개의 붓꽃 클래스)"
      ],
      "metadata": {
        "id": "8gKf0EWVSGkn"
      },
      "execution_count": 24,
      "outputs": []
    },
    {
      "cell_type": "markdown",
      "source": [
        "* 모델 훈련"
      ],
      "metadata": {
        "id": "k4aH1FJATP_n"
      }
    },
    {
      "cell_type": "code",
      "source": [
        "eta = 0.01 # 학습률\n",
        "n_iterations = 5001 # 반복 횟수 (총 학습 스텝 수)\n",
        "m = len(X_train) # 학습 샘플 수\n",
        "epsilon = 1e-7 # 로그 계산 시 0 방지용 작은 수 (numerical stability)\n",
        "\n",
        "Theta = np.random.randn(n_inputs, n_outputs) #가중치 행렬\n",
        "\n",
        "for iteration in range(n_iterations):\n",
        "    logits = X_train.dot(Theta) #logits은 각 샘플에 대해 클래스별 \"점수\"\n",
        "    Y_proba = softmax(logits) # 소프트맥스 함수로 각 샘플에 대해 클래스별 확률 벡터\n",
        "    loss = -np.mean(np.sum(Y_train_one_hot * np.log(Y_proba + epsilon), axis=1)) # 크로스 엔트로피 손실 함수\n",
        "    error = Y_proba - Y_train_one_hot # 예측과 실제 값의 차이 → 경사 계산에 사용\n",
        "    if iteration % 500 == 0:\n",
        "        print(iteration, loss) # 500번마다 현재 손실(loss)을 출력해서 학습 상황 확인\n",
        "    gradients = 1/m * X_train.T.dot(error) # gradients: 평균 오차를 기반으로 계산한 가중치의 변화량\n",
        "    Theta = Theta - eta * gradients # Theta 업데이트: 경사 하강법(GD)"
      ],
      "metadata": {
        "colab": {
          "base_uri": "https://localhost:8080/"
        },
        "id": "zunxzMVUSz8I",
        "outputId": "490bdc64-b0e5-4575-c1f9-a1a8bfe5638a"
      },
      "execution_count": 25,
      "outputs": [
        {
          "output_type": "stream",
          "name": "stdout",
          "text": [
            "0 5.446205811872683\n",
            "500 0.8350062641405651\n",
            "1000 0.6878801447192402\n",
            "1500 0.6012379137693314\n",
            "2000 0.5444496861981872\n",
            "2500 0.5038530181431525\n",
            "3000 0.4729228972192248\n",
            "3500 0.44824244188957774\n",
            "4000 0.4278651093928793\n",
            "4500 0.41060071429187134\n",
            "5000 0.3956780375390374\n"
          ]
        }
      ]
    },
    {
      "cell_type": "markdown",
      "source": [
        "* 파라미터 확인"
      ],
      "metadata": {
        "id": "H3R9KoifVyBq"
      }
    },
    {
      "cell_type": "code",
      "source": [
        "Theta"
      ],
      "metadata": {
        "colab": {
          "base_uri": "https://localhost:8080/"
        },
        "id": "EI6dk9ocVsDj",
        "outputId": "871e7f81-095d-4d5e-c1aa-b13f57aeacb2"
      },
      "execution_count": 26,
      "outputs": [
        {
          "output_type": "execute_result",
          "data": {
            "text/plain": [
              "array([[ 3.32094157, -0.6501102 , -2.99979416],\n",
              "       [-1.1718465 ,  0.11706172,  0.10507543],\n",
              "       [-0.70224261, -0.09527802,  1.4786383 ]])"
            ]
          },
          "metadata": {},
          "execution_count": 26
        }
      ]
    },
    {
      "cell_type": "markdown",
      "source": [
        "* 검증 세트에 대한 예측과 정확도를 확인"
      ],
      "metadata": {
        "id": "Hpltt8iGV-rd"
      }
    },
    {
      "cell_type": "code",
      "source": [
        "logits = X_valid.dot(Theta)\n",
        "Y_proba = softmax(logits)\n",
        "y_predict = np.argmax(Y_proba, axis=1)\n",
        "\n",
        "accuracy_score = np.mean(y_predict == y_valid)\n",
        "accuracy_score"
      ],
      "metadata": {
        "colab": {
          "base_uri": "https://localhost:8080/"
        },
        "id": "1XcVD0FaV2kw",
        "outputId": "1e07b159-374b-4045-fe00-57d8330b6912"
      },
      "execution_count": 29,
      "outputs": [
        {
          "output_type": "execute_result",
          "data": {
            "text/plain": [
              "array([[0.91590904, 0.07574412, 0.00834684],\n",
              "       [0.0094535 , 0.35535128, 0.63519523],\n",
              "       [0.85760359, 0.12619716, 0.01619926],\n",
              "       [0.86679689, 0.1200384 , 0.01316471],\n",
              "       [0.18053423, 0.56850607, 0.25095969],\n",
              "       [0.00232609, 0.36093987, 0.63673404],\n",
              "       [0.00184675, 0.20376711, 0.79438614],\n",
              "       [0.83656765, 0.13899025, 0.0244421 ],\n",
              "       [0.88625401, 0.10077854, 0.01296745],\n",
              "       [0.87261512, 0.11287796, 0.01450692],\n",
              "       [0.04115575, 0.56422484, 0.39461941],\n",
              "       [0.01936555, 0.50197044, 0.47866401],\n",
              "       [0.01424778, 0.38949262, 0.5962596 ],\n",
              "       [0.00974409, 0.3921235 , 0.59813242],\n",
              "       [0.05228127, 0.59296778, 0.35475095],\n",
              "       [0.27251404, 0.47867605, 0.24880991],\n",
              "       [0.00419878, 0.22887872, 0.7669225 ],\n",
              "       [0.09246683, 0.63098776, 0.27654541],\n",
              "       [0.00205562, 0.25995682, 0.73798756],\n",
              "       [0.22171753, 0.53953849, 0.23874397],\n",
              "       [0.87261512, 0.11287796, 0.01450692],\n",
              "       [0.02820109, 0.49657451, 0.4752244 ],\n",
              "       [0.00117133, 0.2317007 , 0.76712797],\n",
              "       [0.00832614, 0.3560292 , 0.63564466],\n",
              "       [0.02488978, 0.49855859, 0.47655163],\n",
              "       [0.89860228, 0.08982574, 0.01157199],\n",
              "       [0.84756447, 0.13252441, 0.01991112],\n",
              "       [0.04653191, 0.56078448, 0.39268361],\n",
              "       [0.1199608 , 0.51555129, 0.36448791],\n",
              "       [0.01707345, 0.5034381 , 0.47948846]])"
            ]
          },
          "metadata": {},
          "execution_count": 29
        }
      ]
    },
    {
      "cell_type": "markdown",
      "source": [
        "* l2 규제 추가\n",
        "* 손실에 l2 페널티가 추가\n",
        "* 그래디언트에도 항이 추가(Theta의 첫 번째 원소는 편향이므로 규제하지 않습니다)\n",
        "* 학습률 eta도 증가"
      ],
      "metadata": {
        "id": "jFrtItwbWnSi"
      }
    },
    {
      "cell_type": "code",
      "source": [
        "eta = 0.1\n",
        "n_iterations = 5001\n",
        "m = len(X_train)\n",
        "epsilon = 1e-7\n",
        "alpha = 0.1  # 규제 하이퍼파라미터\n",
        "\n",
        "Theta = np.random.randn(n_inputs, n_outputs)\n",
        "\n",
        "for iteration in range(n_iterations):\n",
        "    logits = X_train.dot(Theta)\n",
        "    Y_proba = softmax(logits)\n",
        "    xentropy_loss = -np.mean(np.sum(Y_train_one_hot * np.log(Y_proba + epsilon), axis=1))\n",
        "    l2_loss = 1/2 * np.sum(np.square(Theta[1:]))\n",
        "    loss = xentropy_loss + alpha * l2_loss\n",
        "    error = Y_proba - Y_train_one_hot\n",
        "    if iteration % 500 == 0:\n",
        "        print(iteration, loss)\n",
        "    gradients = 1/m * X_train.T.dot(error) + np.r_[np.zeros([1, n_outputs]), alpha * Theta[1:]]\n",
        "    Theta = Theta - eta * gradients"
      ],
      "metadata": {
        "colab": {
          "base_uri": "https://localhost:8080/"
        },
        "id": "3vtq2vmWWAo6",
        "outputId": "602e6e1a-c1ad-4a55-a4a5-1de3bb07e315"
      },
      "execution_count": 30,
      "outputs": [
        {
          "output_type": "stream",
          "name": "stdout",
          "text": [
            "0 6.629842469083912\n",
            "500 0.5339667976629505\n",
            "1000 0.503640075014894\n",
            "1500 0.4946891059460322\n",
            "2000 0.4912968418075477\n",
            "2500 0.48989924700933296\n",
            "3000 0.4892990598451198\n",
            "3500 0.48903512443978603\n",
            "4000 0.4889173621830818\n",
            "4500 0.4888643337449303\n",
            "5000 0.4888403120738818\n"
          ]
        }
      ]
    },
    {
      "cell_type": "markdown",
      "source": [
        "* 검증 세트에 대한 예측과 정확도를 확인"
      ],
      "metadata": {
        "id": "35RMb3UKW9-H"
      }
    },
    {
      "cell_type": "code",
      "source": [
        "logits = X_valid.dot(Theta)\n",
        "Y_proba = softmax(logits)\n",
        "y_predict = np.argmax(Y_proba, axis=1)\n",
        "\n",
        "accuracy_score = np.mean(y_predict == y_valid)\n",
        "accuracy_score"
      ],
      "metadata": {
        "colab": {
          "base_uri": "https://localhost:8080/"
        },
        "id": "ltChbMviW5SX",
        "outputId": "092c2768-0947-43c6-a517-768109d6c71c"
      },
      "execution_count": 31,
      "outputs": [
        {
          "output_type": "execute_result",
          "data": {
            "text/plain": [
              "np.float64(1.0)"
            ]
          },
          "metadata": {},
          "execution_count": 31
        }
      ]
    },
    {
      "cell_type": "markdown",
      "source": [
        "* 조기 종료\n",
        "\n",
        "매 반복에서 검증 세트에 대한 손실을 계산해서 오차가 증가하기 시작할 때 중단"
      ],
      "metadata": {
        "id": "W7DoZVLCXDnj"
      }
    },
    {
      "cell_type": "code",
      "source": [
        "eta = 0.1\n",
        "n_iterations = 5001\n",
        "m = len(X_train)\n",
        "epsilon = 1e-7\n",
        "alpha = 0.1  # 규제 하이퍼파라미터\n",
        "best_loss = np.inf\n",
        "\n",
        "Theta = np.random.randn(n_inputs, n_outputs)\n",
        "\n",
        "for iteration in range(n_iterations):\n",
        "    logits = X_train.dot(Theta)\n",
        "    Y_proba = softmax(logits)\n",
        "    xentropy_loss = -np.mean(np.sum(Y_train_one_hot * np.log(Y_proba + epsilon), axis=1))\n",
        "    l2_loss = 1/2 * np.sum(np.square(Theta[1:]))\n",
        "    loss = xentropy_loss + alpha * l2_loss\n",
        "    error = Y_proba - Y_train_one_hot\n",
        "    gradients = 1/m * X_train.T.dot(error) + np.r_[np.zeros([1, n_outputs]), alpha * Theta[1:]]\n",
        "    Theta = Theta - eta * gradients\n",
        "\n",
        "    logits = X_valid.dot(Theta)\n",
        "    Y_proba = softmax(logits)\n",
        "    xentropy_loss = -np.mean(np.sum(Y_valid_one_hot * np.log(Y_proba + epsilon), axis=1))\n",
        "    l2_loss = 1/2 * np.sum(np.square(Theta[1:]))\n",
        "    loss = xentropy_loss + alpha * l2_loss\n",
        "    if iteration % 500 == 0:\n",
        "        print(iteration, loss)\n",
        "    if loss < best_loss:\n",
        "        best_loss = loss\n",
        "    else:\n",
        "        print(iteration - 1, best_loss) # 손실이 작아지지 않으면 → 개선이 멈췄다고 판단\n",
        "        print(iteration, loss, \"early stopping!\") # 현재 반복 이전까지가 가장 좋은 모델이었던 것으로 판단\n",
        "        break"
      ],
      "metadata": {
        "colab": {
          "base_uri": "https://localhost:8080/"
        },
        "id": "6IGl_mRdW7oD",
        "outputId": "0291a6f8-2969-490a-e8c9-e7fecff18db5"
      },
      "execution_count": 33,
      "outputs": [
        {
          "output_type": "stream",
          "name": "stdout",
          "text": [
            "0 4.7096017363419875\n",
            "500 0.5739711987633519\n",
            "1000 0.5435638529109128\n",
            "1500 0.5355752782580261\n",
            "2000 0.5331959249285544\n",
            "2500 0.5325946767399383\n",
            "2765 0.5325460966791898\n",
            "2766 0.5325460971327977 early stopping!\n"
          ]
        }
      ]
    },
    {
      "cell_type": "code",
      "source": [
        "logits = X_valid.dot(Theta)\n",
        "Y_proba = softmax(logits)\n",
        "y_predict = np.argmax(Y_proba, axis=1)\n",
        "\n",
        "accuracy_score = np.mean(y_predict == y_valid)\n",
        "accuracy_score"
      ],
      "metadata": {
        "colab": {
          "base_uri": "https://localhost:8080/"
        },
        "id": "1CelBy5SXr34",
        "outputId": "6775a420-a44b-449e-84a7-e57912bf7d2d"
      },
      "execution_count": 34,
      "outputs": [
        {
          "output_type": "execute_result",
          "data": {
            "text/plain": [
              "np.float64(1.0)"
            ]
          },
          "metadata": {},
          "execution_count": 34
        }
      ]
    },
    {
      "cell_type": "markdown",
      "source": [
        "* 전체 데이터셋에 대한 모델의 예측 그래프"
      ],
      "metadata": {
        "id": "md5t0QFxX0Ay"
      }
    },
    {
      "cell_type": "code",
      "source": [
        "import matplotlib.pyplot as plt\n",
        "\n",
        "x0, x1 = np.meshgrid(\n",
        "        np.linspace(0, 8, 500).reshape(-1, 1),\n",
        "        np.linspace(0, 3.5, 200).reshape(-1, 1),\n",
        "    )\n",
        "X_new = np.c_[x0.ravel(), x1.ravel()]\n",
        "X_new_with_bias = np.c_[np.ones([len(X_new), 1]), X_new]\n",
        "\n",
        "logits = X_new_with_bias.dot(Theta)\n",
        "Y_proba = softmax(logits)\n",
        "y_predict = np.argmax(Y_proba, axis=1)\n",
        "\n",
        "zz1 = Y_proba[:, 1].reshape(x0.shape)\n",
        "zz = y_predict.reshape(x0.shape)\n",
        "\n",
        "plt.figure(figsize=(10, 4))\n",
        "plt.plot(X[y==2, 0], X[y==2, 1], \"g^\", label=\"Iris-Virginica\")\n",
        "plt.plot(X[y==1, 0], X[y==1, 1], \"bs\", label=\"Iris-Versicolor\")\n",
        "plt.plot(X[y==0, 0], X[y==0, 1], \"yo\", label=\"Iris-Setosa\")\n",
        "\n",
        "from matplotlib.colors import ListedColormap\n",
        "custom_cmap = ListedColormap(['#fafab0','#9898ff','#a0faa0'])\n",
        "\n",
        "plt.contourf(x0, x1, zz, cmap=custom_cmap)\n",
        "contour = plt.contour(x0, x1, zz1, cmap=plt.cm.brg)\n",
        "plt.clabel(contour, inline=1, fontsize=12)\n",
        "plt.xlabel(\"꽃잎 길이\", fontsize=14)\n",
        "plt.ylabel(\"꽃잎 폭\", fontsize=14)\n",
        "plt.legend(loc=\"upper left\", fontsize=14)\n",
        "plt.axis([0, 7, 0, 3.5])\n",
        "plt.show()"
      ],
      "metadata": {
        "colab": {
          "base_uri": "https://localhost:8080/",
          "height": 578
        },
        "id": "AF2gDZJ-Xvsj",
        "outputId": "20a2ddfc-f1e9-406d-f86f-acb6cd2745d7"
      },
      "execution_count": 37,
      "outputs": [
        {
          "output_type": "stream",
          "name": "stderr",
          "text": [
            "/usr/local/lib/python3.11/dist-packages/IPython/core/pylabtools.py:151: UserWarning: Glyph 44867 (\\N{HANGUL SYLLABLE GGOC}) missing from font(s) DejaVu Sans.\n",
            "  fig.canvas.print_figure(bytes_io, **kw)\n",
            "/usr/local/lib/python3.11/dist-packages/IPython/core/pylabtools.py:151: UserWarning: Glyph 51086 (\\N{HANGUL SYLLABLE IP}) missing from font(s) DejaVu Sans.\n",
            "  fig.canvas.print_figure(bytes_io, **kw)\n",
            "/usr/local/lib/python3.11/dist-packages/IPython/core/pylabtools.py:151: UserWarning: Glyph 44600 (\\N{HANGUL SYLLABLE GIL}) missing from font(s) DejaVu Sans.\n",
            "  fig.canvas.print_figure(bytes_io, **kw)\n",
            "/usr/local/lib/python3.11/dist-packages/IPython/core/pylabtools.py:151: UserWarning: Glyph 51060 (\\N{HANGUL SYLLABLE I}) missing from font(s) DejaVu Sans.\n",
            "  fig.canvas.print_figure(bytes_io, **kw)\n",
            "/usr/local/lib/python3.11/dist-packages/IPython/core/pylabtools.py:151: UserWarning: Glyph 54253 (\\N{HANGUL SYLLABLE POG}) missing from font(s) DejaVu Sans.\n",
            "  fig.canvas.print_figure(bytes_io, **kw)\n"
          ]
        },
        {
          "output_type": "display_data",
          "data": {
            "text/plain": [
              "<Figure size 1000x400 with 1 Axes>"
            ],
            "image/png": "[encoded data removed]"
          },
          "metadata": {}
        }
      ]
    },
    {
      "cell_type": "markdown",
      "source": [
        "* 테스트 세트에 대한 모델의 최종 정확도 측정"
      ],
      "metadata": {
        "id": "Nqqm5AhlYU7S"
      }
    },
    {
      "cell_type": "code",
      "source": [
        "logits = X_test.dot(Theta)\n",
        "Y_proba = softmax(logits)\n",
        "y_predict = np.argmax(Y_proba, axis=1)\n",
        "\n",
        "accuracy_score = np.mean(y_predict == y_test)\n",
        "accuracy_score"
      ],
      "metadata": {
        "colab": {
          "base_uri": "https://localhost:8080/"
        },
        "id": "nWrsvC__X3ku",
        "outputId": "aa1131f6-c803-41cd-b6f0-f9c0bd815ca4"
      },
      "execution_count": 38,
      "outputs": [
        {
          "output_type": "execute_result",
          "data": {
            "text/plain": [
              "np.float64(0.9333333333333333)"
            ]
          },
          "metadata": {},
          "execution_count": 38
        }
      ]
    },
    {
      "cell_type": "markdown",
      "source": [
        "완벽했던 최종 모델의 성능이 조금 떨어짐. 이런 차이는 데이터셋이 작기 때문일 것"
      ],
      "metadata": {
        "id": "M0MPXs3cYaJF"
      }
    }
  ]
}