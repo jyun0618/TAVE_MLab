{
 "cells": [
  {
   "cell_type": "markdown",
   "metadata": {},
   "source": [
    "1. 수백만개의 특성을 가진 훈련 세트에서는 어떤 선형 회귀 알고리즘을 사용할 수 있을까요?"
   ]
  },
  {
   "cell_type": "code",
   "execution_count": 5,
   "metadata": {},
   "outputs": [],
   "source": [
    "# 확률적 경사 하강법(Stochastic Gradient Descent, SGD)\n",
    "# 한 번에 하나의 샘플만 사용해 그레이디언트를 계산하므로 대규모 데이터셋에서 적합."
   ]
  },
  {
   "cell_type": "markdown",
   "metadata": {},
   "source": [
    "2. 훈련 세트에 있는 특성들이 서로 다른 스케일을 가지고 있습니다. 이런 데이터에 잘 작동하지 않은 알고리즘은 무엇일까요? 그 이유는 무엇일까요? 이 문제를 어떻게 해결할 수 있을까요?"
   ]
  },
  {
   "cell_type": "code",
   "execution_count": 6,
   "metadata": {},
   "outputs": [],
   "source": [
    "# 경사 하강법(Gradient Descent)\n",
    "# 이유: 각 특성의 기울기를 계산하는데, 특성들이 서로 다른 스케일을 가지면 기울기의 크기가 달라져 학습 속도에 영향을 미침.\n",
    "#       최적해에 도달하는 데 시간이 오래 걸리거나, 제대로 수렴하지 않을 수 있음.\n",
    "# 해결법: 특성 스케일링! 표준화 or 정규화를 진행함"
   ]
  },
  {
   "cell_type": "markdown",
   "metadata": {},
   "source": [
    "3. 경사 하강법으로 로지스틱 회귀 모델을 훈련시킬 때 지역 최솟값에 갇힐 가능성이 있을까요?"
   ]
  },
  {
   "cell_type": "code",
   "execution_count": 7,
   "metadata": {},
   "outputs": [],
   "source": [
    "# 아니요. 로지스틱 회귀 모델의 비용 함수가 볼록 함수이기 때문"
   ]
  },
  {
   "cell_type": "markdown",
   "metadata": {},
   "source": [
    "4. 충분히 오랫동안 실행하면 모든 경사 하강법 알고리즘이 같은 모델을 만들어낼까요?"
   ]
  },
  {
   "cell_type": "code",
   "execution_count": 8,
   "metadata": {},
   "outputs": [],
   "source": [
    "# 아니요.\n",
    "# 배치 경사 하강법: 충분히 오래 실행하면 같은 모델에 수렴\n",
    "# 확률적 경사 하강법(SGD): 무작위성 때문에 결과가 달라짐\n",
    "# 미니배치 경사 하강법: 배치의 크기와 초기화 상태에 따란 결과가 달라짐."
   ]
  },
  {
   "cell_type": "markdown",
   "metadata": {},
   "source": [
    "5. 배치 경사 하강법을 사용하고 에포크마다 검증 오차를 그래프로 나타내봤습니다. 검증 오차가 일정하게 상승하고 있다면 어떤 일이 일어나고 있는 걸까요? 이 문제를 어떻게 해결할 수 있나요?"
   ]
  },
  {
   "cell_type": "code",
   "execution_count": 9,
   "metadata": {},
   "outputs": [],
   "source": [
    "# 과대적합\n",
    "# 해결법: 조기 종료, 규제(릿지,라쏘,엘라스틱), 훈련 데이터 확장"
   ]
  },
  {
   "cell_type": "markdown",
   "metadata": {},
   "source": [
    "6. 검증 오차가 상승하면 미니배치 경사 하강법을 즉시 중단하는 것이 좋은 방법인가요?"
   ]
  },
  {
   "cell_type": "code",
   "execution_count": 10,
   "metadata": {},
   "outputs": [],
   "source": [
    "# 즉시중단보다는 최적의 시점에서 조기 종료를 고려."
   ]
  },
  {
   "cell_type": "markdown",
   "metadata": {},
   "source": [
    "7. 어떤 경사 하강법 알고리즘이 가장 빠르게 최적 솔루션에 근접해질까요? 실제로 수렴하는 것은 어떤 것인가요? 다른 방법들도 수렴하게 만들 수 있나요?"
   ]
  },
  {
   "cell_type": "code",
   "execution_count": 11,
   "metadata": {},
   "outputs": [],
   "source": [
    "# 가장빠르게 근접하는건: 확률적 경사 하강법SGD\n",
    "# 실제로 수렴하는건: 배치 경사 하강법\n",
    "# 다른 방법: 미니배치 경사 하강법"
   ]
  },
  {
   "cell_type": "markdown",
   "metadata": {},
   "source": [
    "8. 다항 회귀를 사용했을 때 학습 곡선을 보니 훈련 오차와 검증 오차 사이에 간격이 큽니다. 무슨일이 생긴 걸까요? 이 문제를 해결하는 세가지 방법은 무엇인가요?"
   ]
  },
  {
   "cell_type": "code",
   "execution_count": 12,
   "metadata": {},
   "outputs": [],
   "source": [
    "# 과대적합\n",
    "# 해결법: 1. 모델 복잡도 줄이기(다항 차수 낮추기) \n",
    "#         2. 규제 추가(릿지,라쏘,엘라스틱넷)\n",
    "#         3. 더 많은 데이터 확보(훈련 데이터 늘리기)"
   ]
  },
  {
   "cell_type": "markdown",
   "metadata": {},
   "source": [
    "9. 릿지 회귀를 사용했을 때 훈련 오차와 검증 오차가 거의 비슷하고 둘 다 높았습니다. 이 모델에는 높은 편향이 문제인가요, 아니면 높은 분산이 문제인가요? 규제 하이퍼파라미터a(알파)를 증가시켜야 할까요, 아니면 줄여야 할까요?"
   ]
  },
  {
   "cell_type": "code",
   "execution_count": null,
   "metadata": {},
   "outputs": [],
   "source": [
    "# 과소적합이므로 높은 편향이 문제\n",
    "# 규제 하이퍼파라미터를 감소(모델 복잡도를 높임)"
   ]
  },
  {
   "cell_type": "markdown",
   "metadata": {},
   "source": [
    "10. 다음과 같이 사용해야 하는 이유는 무엇인가요?\n",
    "a. 평범한 선형 회귀(규제x) 대신 릿지 회귀\n",
    "b. 릿지 회귀 대신 라쏘 회귀\n",
    "c. 라쏘 회귀 대신 엘라스틱넷 회귀"
   ]
  },
  {
   "cell_type": "code",
   "execution_count": 13,
   "metadata": {},
   "outputs": [],
   "source": [
    "# 모델의 과대적합을 방지하기 위해서\n",
    "# a. 모든 특성을 사용하면서 복잡다를 줄이고 싶을 때\n",
    "# b. 불필요한 특성을 자동으로 제거하고 중요한 특성만 골라내고 싶을 때\n",
    "# c. 특성 수가 많고, 상관관계가 높은 특성이 많아 릿지와 라쏘의 장점 모두 활용하고 싶을 때."
   ]
  },
  {
   "cell_type": "markdown",
   "metadata": {},
   "source": [
    "11. 사진을 낮과 밤, 실내와 실외로 분류하려 합니다. 두개의 로지스틱 회귀 분류기를 만들어야 할까요, 아니면 하나의 소프트맥스 회귀 분류기를 만들어야 할까요?"
   ]
  },
  {
   "cell_type": "code",
   "execution_count": 14,
   "metadata": {},
   "outputs": [],
   "source": [
    "# 두개의 로지스틱 회귀 분류기\n",
    "# 이유: 두 개의 독립적인 개념을 따로 예측 가능"
   ]
  },
  {
   "cell_type": "markdown",
   "metadata": {},
   "source": [
    "12. 사이킷런을 사용하지 않고 넘파이만 사용하여 조기 종료를 사용한 배치 경사 하강법으로 소프트맥스 회귀를 구현해보세요. 이를 붓꽃 데이터셋 같은 분류 작업에 사용해보세요."
   ]
  },
  {
   "cell_type": "markdown",
   "metadata": {},
   "source": [
    "* 사이킷런 사용해서 구현함"
   ]
  },
  {
   "cell_type": "markdown",
   "metadata": {},
   "source": [
    "import numpy as np\n",
    "import matplotlib.pyplot as plt\n",
    "from sklearn.datasets import load_iris\n",
    "from sklearn.model_selection import train_test_split\n",
    "from sklearn.preprocessing import StandardScaler\n",
    "from sklearn.linear_model import LogisticRegression\n",
    "from sklearn.metrics import accuracy_score"
   ]
  },
  {
   "cell_type": "code",
   "execution_count": 18,
   "metadata": {},
   "outputs": [
    {
     "data": {
      "text/plain": [
       "{'data':      sepal length (cm)  sepal width (cm)  petal length (cm)  petal width (cm)\n",
       " 0                  5.1               3.5                1.4               0.2\n",
       " 1                  4.9               3.0                1.4               0.2\n",
       " 2                  4.7               3.2                1.3               0.2\n",
       " 3                  4.6               3.1                1.5               0.2\n",
       " 4                  5.0               3.6                1.4               0.2\n",
       " ..                 ...               ...                ...               ...\n",
       " 145                6.7               3.0                5.2               2.3\n",
       " 146                6.3               2.5                5.0               1.9\n",
       " 147                6.5               3.0                5.2               2.0\n",
       " 148                6.2               3.4                5.4               2.3\n",
       " 149                5.9               3.0                5.1               1.8\n",
       " \n",
       " [150 rows x 4 columns],\n",
       " 'target': 0      0\n",
       " 1      0\n",
       " 2      0\n",
       " 3      0\n",
       " 4      0\n",
       "       ..\n",
       " 145    2\n",
       " 146    2\n",
       " 147    2\n",
       " 148    2\n",
       " 149    2\n",
       " Name: target, Length: 150, dtype: int32,\n",
       " 'frame':      sepal length (cm)  sepal width (cm)  petal length (cm)  petal width (cm)  \\\n",
       " 0                  5.1               3.5                1.4               0.2   \n",
       " 1                  4.9               3.0                1.4               0.2   \n",
       " 2                  4.7               3.2                1.3               0.2   \n",
       " 3                  4.6               3.1                1.5               0.2   \n",
       " 4                  5.0               3.6                1.4               0.2   \n",
       " ..                 ...               ...                ...               ...   \n",
       " 145                6.7               3.0                5.2               2.3   \n",
       " 146                6.3               2.5                5.0               1.9   \n",
       " 147                6.5               3.0                5.2               2.0   \n",
       " 148                6.2               3.4                5.4               2.3   \n",
       " 149                5.9               3.0                5.1               1.8   \n",
       " \n",
       "      target  \n",
       " 0         0  \n",
       " 1         0  \n",
       " 2         0  \n",
       " 3         0  \n",
       " 4         0  \n",
       " ..      ...  \n",
       " 145       2  \n",
       " 146       2  \n",
       " 147       2  \n",
       " 148       2  \n",
       " 149       2  \n",
       " \n",
       " [150 rows x 5 columns],\n",
       " 'target_names': array(['setosa', 'versicolor', 'virginica'], dtype='<U10'),\n",
       " 'DESCR': '.. _iris_dataset:\\n\\nIris plants dataset\\n--------------------\\n\\n**Data Set Characteristics:**\\n\\n    :Number of Instances: 150 (50 in each of three classes)\\n    :Number of Attributes: 4 numeric, predictive attributes and the class\\n    :Attribute Information:\\n        - sepal length in cm\\n        - sepal width in cm\\n        - petal length in cm\\n        - petal width in cm\\n        - class:\\n                - Iris-Setosa\\n                - Iris-Versicolour\\n                - Iris-Virginica\\n                \\n    :Summary Statistics:\\n\\n    ============== ==== ==== ======= ===== ====================\\n                    Min  Max   Mean    SD   Class Correlation\\n    ============== ==== ==== ======= ===== ====================\\n    sepal length:   4.3  7.9   5.84   0.83    0.7826\\n    sepal width:    2.0  4.4   3.05   0.43   -0.4194\\n    petal length:   1.0  6.9   3.76   1.76    0.9490  (high!)\\n    petal width:    0.1  2.5   1.20   0.76    0.9565  (high!)\\n    ============== ==== ==== ======= ===== ====================\\n\\n    :Missing Attribute Values: None\\n    :Class Distribution: 33.3% for each of 3 classes.\\n    :Creator: R.A. Fisher\\n    :Donor: Michael Marshall (MARSHALL%PLU@io.arc.nasa.gov)\\n    :Date: July, 1988\\n\\nThe famous Iris database, first used by Sir R.A. Fisher. The dataset is taken\\nfrom Fisher\\'s paper. Note that it\\'s the same as in R, but not as in the UCI\\nMachine Learning Repository, which has two wrong data points.\\n\\nThis is perhaps the best known database to be found in the\\npattern recognition literature.  Fisher\\'s paper is a classic in the field and\\nis referenced frequently to this day.  (See Duda & Hart, for example.)  The\\ndata set contains 3 classes of 50 instances each, where each class refers to a\\ntype of iris plant.  One class is linearly separable from the other 2; the\\nlatter are NOT linearly separable from each other.\\n\\n|details-start|\\n**References**\\n|details-split|\\n\\n- Fisher, R.A. \"The use of multiple measurements in taxonomic problems\"\\n  Annual Eugenics, 7, Part II, 179-188 (1936); also in \"Contributions to\\n  Mathematical Statistics\" (John Wiley, NY, 1950).\\n- Duda, R.O., & Hart, P.E. (1973) Pattern Classification and Scene Analysis.\\n  (Q327.D83) John Wiley & Sons.  ISBN 0-471-22361-1.  See page 218.\\n- Dasarathy, B.V. (1980) \"Nosing Around the Neighborhood: A New System\\n  Structure and Classification Rule for Recognition in Partially Exposed\\n  Environments\".  IEEE Transactions on Pattern Analysis and Machine\\n  Intelligence, Vol. PAMI-2, No. 1, 67-71.\\n- Gates, G.W. (1972) \"The Reduced Nearest Neighbor Rule\".  IEEE Transactions\\n  on Information Theory, May 1972, 431-433.\\n- See also: 1988 MLC Proceedings, 54-64.  Cheeseman et al\"s AUTOCLASS II\\n  conceptual clustering system finds 3 classes in the data.\\n- Many, many more ...\\n\\n|details-end|',\n",
       " 'feature_names': ['sepal length (cm)',\n",
       "  'sepal width (cm)',\n",
       "  'petal length (cm)',\n",
       "  'petal width (cm)'],\n",
       " 'filename': 'iris.csv',\n",
       " 'data_module': 'sklearn.datasets.data'}"
      ]
     },
     "execution_count": 18,
     "metadata": {},
     "output_type": "execute_result"
    }
   ],
   "source": [
    "iris = load_iris(as_frame=True)\n",
    "iris"
   ]
  },
  {
   "cell_type": "code",
   "execution_count": 22,
   "metadata": {},
   "outputs": [],
   "source": [
    "X = iris.data[['petal length (cm)', 'petal width (cm)']].values #특성 데이터\n",
    "y = iris['target'].values # 타겟 데이터(0: setosa, 1: versicolor, 2: virginica)\n",
    "\n",
    "# 데이터 분할\n",
    "X_train, X_test, y_train, y_test = train_test_split(X, y, test_size=0.2, random_state=42, stratify=y)\n",
    "\n",
    "# 특성 스케일링(표준화)\n",
    "scaler = StandardScaler()\n",
    "X_train_scaled = scaler.fit_transform(X_train)\n",
    "X_test_scaled = scaler.transform(X_test)"
   ]
  },
  {
   "cell_type": "code",
   "execution_count": 27,
   "metadata": {},
   "outputs": [
    {
     "data": {
      "text/plain": [
       "array([[1.4, 0.2],\n",
       "       [4.5, 1.7],\n",
       "       [4.8, 1.4],\n",
       "       [1.5, 0.1],\n",
       "       [4. , 1.3],\n",
       "       [5. , 1.9],\n",
       "       [4.2, 1.3],\n",
       "       [5.1, 1.5],\n",
       "       [6.1, 2.3],\n",
       "       [6.7, 2.2],\n",
       "       [6.6, 2.1],\n",
       "       [4.5, 1.5],\n",
       "       [3.5, 1. ],\n",
       "       [4.1, 1. ],\n",
       "       [4. , 1.2],\n",
       "       [1.6, 0.2],\n",
       "       [1.5, 0.3],\n",
       "       [5.8, 1.8],\n",
       "       [5.5, 1.8],\n",
       "       [1.5, 0.4],\n",
       "       [4.9, 1.5],\n",
       "       [1.6, 0.2],\n",
       "       [6.4, 2. ],\n",
       "       [1.6, 0.2],\n",
       "       [3.7, 1. ],\n",
       "       [5.6, 1.8],\n",
       "       [5.3, 1.9],\n",
       "       [1.6, 0.4],\n",
       "       [4.9, 2. ],\n",
       "       [1.3, 0.3],\n",
       "       [1.5, 0.4],\n",
       "       [4. , 1.3],\n",
       "       [4.6, 1.4],\n",
       "       [1.5, 0.4],\n",
       "       [5.4, 2.1],\n",
       "       [5.4, 2.3],\n",
       "       [3.5, 1. ],\n",
       "       [3.9, 1.4],\n",
       "       [5.7, 2.5],\n",
       "       [4.8, 1.8],\n",
       "       [1.4, 0.3],\n",
       "       [4.7, 1.4],\n",
       "       [1.3, 0.4],\n",
       "       [6.1, 1.9],\n",
       "       [1.4, 0.2],\n",
       "       [1.4, 0.3],\n",
       "       [5.1, 1.9],\n",
       "       [1.2, 0.2],\n",
       "       [1.3, 0.3],\n",
       "       [1.4, 0.1],\n",
       "       [1.4, 0.3],\n",
       "       [3.6, 1.3],\n",
       "       [6. , 2.5],\n",
       "       [4.5, 1.3],\n",
       "       [1.4, 0.2],\n",
       "       [5.1, 1.8],\n",
       "       [4.1, 1.3],\n",
       "       [5.6, 2.4],\n",
       "       [1.4, 0.2],\n",
       "       [5.1, 1.9],\n",
       "       [1.3, 0.2],\n",
       "       [4. , 1.3],\n",
       "       [5. , 2. ],\n",
       "       [1.9, 0.2],\n",
       "       [5.1, 1.6],\n",
       "       [4.4, 1.2],\n",
       "       [6.7, 2. ],\n",
       "       [4.5, 1.5],\n",
       "       [4.6, 1.5],\n",
       "       [5.3, 2.3],\n",
       "       [1.5, 0.2],\n",
       "       [1.7, 0.5],\n",
       "       [1.4, 0.2],\n",
       "       [5. , 1.5],\n",
       "       [3.9, 1.2],\n",
       "       [5.8, 1.6],\n",
       "       [3.8, 1.1],\n",
       "       [5.2, 2.3],\n",
       "       [4.9, 1.8],\n",
       "       [4.5, 1.6],\n",
       "       [1.5, 0.2],\n",
       "       [5.1, 2.4],\n",
       "       [4.5, 1.5],\n",
       "       [1.6, 0.6],\n",
       "       [5.7, 2.3],\n",
       "       [1.5, 0.1],\n",
       "       [6.1, 2.5],\n",
       "       [3. , 1.1],\n",
       "       [4.7, 1.5],\n",
       "       [1.6, 0.2],\n",
       "       [4.3, 1.3],\n",
       "       [5.1, 2. ],\n",
       "       [1.9, 0.4],\n",
       "       [1.1, 0.1],\n",
       "       [5.7, 2.1],\n",
       "       [6.9, 2.3],\n",
       "       [5.5, 2.1],\n",
       "       [4.4, 1.3],\n",
       "       [4.8, 1.8],\n",
       "       [1.7, 0.4],\n",
       "       [5.9, 2.3],\n",
       "       [4.2, 1.3],\n",
       "       [6. , 1.8],\n",
       "       [5.9, 2.1],\n",
       "       [1.5, 0.2],\n",
       "       [4.3, 1.3],\n",
       "       [4.7, 1.2],\n",
       "       [4.2, 1.2],\n",
       "       [4.1, 1.3],\n",
       "       [4.4, 1.4],\n",
       "       [1.5, 0.2],\n",
       "       [5.6, 2.1],\n",
       "       [4. , 1. ],\n",
       "       [4.2, 1.5],\n",
       "       [1.6, 0.2],\n",
       "       [1.4, 0.1],\n",
       "       [1.3, 0.2],\n",
       "       [1.4, 0.2],\n",
       "       [4.9, 1.5],\n",
       "       [1.5, 0.2]])"
      ]
     },
     "execution_count": 27,
     "metadata": {},
     "output_type": "execute_result"
    }
   ],
   "source": [
    "X_train"
   ]
  },
  {
   "cell_type": "code",
   "execution_count": 28,
   "metadata": {},
   "outputs": [
    {
     "data": {
      "text/plain": [
       "array([[-1.34572231, -1.32327558],\n",
       "       [ 0.41450518,  0.6517626 ],\n",
       "       [ 0.58484978,  0.25675496],\n",
       "       [-1.28894078, -1.45494479],\n",
       "       [ 0.13059752,  0.12508575],\n",
       "       [ 0.69841284,  0.91510102],\n",
       "       [ 0.24416059,  0.12508575],\n",
       "       [ 0.75519438,  0.38842418],\n",
       "       [ 1.3230097 ,  1.44177787],\n",
       "       [ 1.66369889,  1.31010866],\n",
       "       [ 1.60691736,  1.17843945],\n",
       "       [ 0.41450518,  0.38842418],\n",
       "       [-0.15331014, -0.26992188],\n",
       "       [ 0.18737906, -0.26992188],\n",
       "       [ 0.13059752, -0.00658346],\n",
       "       [-1.23215924, -1.32327558],\n",
       "       [-1.28894078, -1.19160637],\n",
       "       [ 1.1526651 ,  0.78343181],\n",
       "       [ 0.9823205 ,  0.78343181],\n",
       "       [-1.28894078, -1.05993716],\n",
       "       [ 0.64163131,  0.38842418],\n",
       "       [-1.23215924, -1.32327558],\n",
       "       [ 1.49335429,  1.04677024],\n",
       "       [-1.23215924, -1.32327558],\n",
       "       [-0.03974707, -0.26992188],\n",
       "       [ 1.03910204,  0.78343181],\n",
       "       [ 0.86875744,  0.91510102],\n",
       "       [-1.23215924, -1.05993716],\n",
       "       [ 0.64163131,  1.04677024],\n",
       "       [-1.40250384, -1.19160637],\n",
       "       [-1.28894078, -1.05993716],\n",
       "       [ 0.13059752,  0.12508575],\n",
       "       [ 0.47128672,  0.25675496],\n",
       "       [-1.28894078, -1.05993716],\n",
       "       [ 0.92553897,  1.17843945],\n",
       "       [ 0.92553897,  1.44177787],\n",
       "       [-0.15331014, -0.26992188],\n",
       "       [ 0.07381599,  0.25675496],\n",
       "       [ 1.09588357,  1.7051163 ],\n",
       "       [ 0.58484978,  0.78343181],\n",
       "       [-1.34572231, -1.19160637],\n",
       "       [ 0.52806825,  0.25675496],\n",
       "       [-1.40250384, -1.05993716],\n",
       "       [ 1.3230097 ,  0.91510102],\n",
       "       [-1.34572231, -1.32327558],\n",
       "       [-1.34572231, -1.19160637],\n",
       "       [ 0.75519438,  0.91510102],\n",
       "       [-1.45928537, -1.32327558],\n",
       "       [-1.40250384, -1.19160637],\n",
       "       [-1.34572231, -1.45494479],\n",
       "       [-1.34572231, -1.19160637],\n",
       "       [-0.0965286 ,  0.12508575],\n",
       "       [ 1.26622816,  1.7051163 ],\n",
       "       [ 0.41450518,  0.12508575],\n",
       "       [-1.34572231, -1.32327558],\n",
       "       [ 0.75519438,  0.78343181],\n",
       "       [ 0.18737906,  0.12508575],\n",
       "       [ 1.03910204,  1.57344709],\n",
       "       [-1.34572231, -1.32327558],\n",
       "       [ 0.75519438,  0.91510102],\n",
       "       [-1.40250384, -1.32327558],\n",
       "       [ 0.13059752,  0.12508575],\n",
       "       [ 0.69841284,  1.04677024],\n",
       "       [-1.06181465, -1.32327558],\n",
       "       [ 0.75519438,  0.52009339],\n",
       "       [ 0.35772365, -0.00658346],\n",
       "       [ 1.66369889,  1.04677024],\n",
       "       [ 0.41450518,  0.38842418],\n",
       "       [ 0.47128672,  0.38842418],\n",
       "       [ 0.86875744,  1.44177787],\n",
       "       [-1.28894078, -1.32327558],\n",
       "       [-1.17537771, -0.92826795],\n",
       "       [-1.34572231, -1.32327558],\n",
       "       [ 0.69841284,  0.38842418],\n",
       "       [ 0.07381599, -0.00658346],\n",
       "       [ 1.1526651 ,  0.52009339],\n",
       "       [ 0.01703446, -0.13825267],\n",
       "       [ 0.81197591,  1.44177787],\n",
       "       [ 0.64163131,  0.78343181],\n",
       "       [ 0.41450518,  0.52009339],\n",
       "       [-1.28894078, -1.32327558],\n",
       "       [ 0.75519438,  1.57344709],\n",
       "       [ 0.41450518,  0.38842418],\n",
       "       [-1.23215924, -0.79659873],\n",
       "       [ 1.09588357,  1.44177787],\n",
       "       [-1.28894078, -1.45494479],\n",
       "       [ 1.3230097 ,  1.7051163 ],\n",
       "       [-0.4372178 , -0.13825267],\n",
       "       [ 0.52806825,  0.38842418],\n",
       "       [-1.23215924, -1.32327558],\n",
       "       [ 0.30094212,  0.12508575],\n",
       "       [ 0.75519438,  1.04677024],\n",
       "       [-1.06181465, -1.05993716],\n",
       "       [-1.5160669 , -1.45494479],\n",
       "       [ 1.09588357,  1.17843945],\n",
       "       [ 1.77726195,  1.44177787],\n",
       "       [ 0.9823205 ,  1.17843945],\n",
       "       [ 0.35772365,  0.12508575],\n",
       "       [ 0.58484978,  0.78343181],\n",
       "       [-1.17537771, -1.05993716],\n",
       "       [ 1.20944663,  1.44177787],\n",
       "       [ 0.24416059,  0.12508575],\n",
       "       [ 1.26622816,  0.78343181],\n",
       "       [ 1.20944663,  1.17843945],\n",
       "       [-1.28894078, -1.32327558],\n",
       "       [ 0.30094212,  0.12508575],\n",
       "       [ 0.52806825, -0.00658346],\n",
       "       [ 0.24416059, -0.00658346],\n",
       "       [ 0.18737906,  0.12508575],\n",
       "       [ 0.35772365,  0.25675496],\n",
       "       [-1.28894078, -1.32327558],\n",
       "       [ 1.03910204,  1.17843945],\n",
       "       [ 0.13059752, -0.26992188],\n",
       "       [ 0.24416059,  0.38842418],\n",
       "       [-1.23215924, -1.32327558],\n",
       "       [-1.34572231, -1.45494479],\n",
       "       [-1.40250384, -1.32327558],\n",
       "       [-1.34572231, -1.32327558],\n",
       "       [ 0.64163131,  0.38842418],\n",
       "       [-1.28894078, -1.32327558]])"
      ]
     },
     "execution_count": 28,
     "metadata": {},
     "output_type": "execute_result"
    }
   ],
   "source": [
    "X_train_scaled"
   ]
  },
  {
   "cell_type": "code",
   "execution_count": 29,
   "metadata": {},
   "outputs": [],
   "source": [
    "# 조기 종료 설정\n",
    "max_epochs = 500  # 최대 반복 횟수\n",
    "early_stopping_patience = 20  # 조기 종료 기준 (연속 20회 개선되지 않으면 멈춤)\n",
    "learning_rate = 0.1  # 학습률\n",
    "n_classes = len(np.unique(y))  # 클래스 수 (Iris는 3개 클래스)\n",
    "m = X_train_scaled.shape[0]  # 샘플 수\n",
    "\n",
    "# 초기화\n",
    "theta = np.zeros((X_train_scaled.shape[1], n_classes))  # 가중치 초기화\n",
    "best_loss = np.inf  # 최소 손실값\n",
    "no_improvement_count = 0  # 개선되지 않은 에포크 수 카운트\n",
    "\n",
    "\n",
    "# 경사 하강법 반복\n",
    "losses = []\n",
    "for epoch in range(max_epochs):\n",
    "    # 선형 예측 (가중합)\n",
    "    logits = X_train_scaled.dot(theta)  # (m, n_classes)\n",
    "    \n",
    "    # 소프트맥스 함수 적용\n",
    "    exp_logits = np.exp(logits)\n",
    "    y_proba = exp_logits / np.sum(exp_logits, axis=1, keepdims=True)  # (m, n_classes)\n",
    "    \n",
    "    # 손실 계산 (크로스 엔트로피 손실)\n",
    "    y_one_hot = np.eye(n_classes)[y_train]  # 원-핫 인코딩\n",
    "    loss = -np.mean(np.sum(y_one_hot * np.log(y_proba + 1e-9), axis=1))\n",
    "    losses.append(loss)\n",
    "    \n",
    "    # 조기 종료 확인\n",
    "    if loss < best_loss:\n",
    "        best_loss = loss\n",
    "        no_improvement_count = 0\n",
    "    else:\n",
    "        no_improvement_count += 1\n",
    "\n",
    "    if no_improvement_count >= early_stopping_patience:\n",
    "        print(f\"조기 종료! Epoch: {epoch} | 손실: {best_loss:.4f}\")\n",
    "        break\n",
    "\n",
    "    # 그레이디언트 계산 및 가중치 업데이트\n",
    "    gradient = (1 / m) * X_train_scaled.T.dot(y_proba - y_one_hot)\n",
    "    theta -= learning_rate * gradient"
   ]
  },
  {
   "cell_type": "code",
   "execution_count": 30,
   "metadata": {},
   "outputs": [
    {
     "name": "stdout",
     "output_type": "stream",
     "text": [
      "테스트 세트 정확도: 0.7000\n"
     ]
    }
   ],
   "source": [
    "# 테스트 세트 예측\n",
    "logits_test = X_test_scaled.dot(theta)\n",
    "exp_logits_test = np.exp(logits_test)\n",
    "y_test_proba = exp_logits_test / np.sum(exp_logits_test, axis=1, keepdims=True)\n",
    "\n",
    "# 최종 예측 (확률이 가장 높은 클래스 선택)\n",
    "y_pred = np.argmax(y_test_proba, axis=1)\n",
    "\n",
    "# 정확도 평가\n",
    "accuracy = accuracy_score(y_test, y_pred)\n",
    "print(f\"테스트 세트 정확도: {accuracy:.4f}\")"
   ]
  },
  {
   "cell_type": "code",
   "execution_count": 31,
   "metadata": {},
   "outputs": [
    {
     "data": {
      "image/png": "[encoded data removed]",
      "text/plain": [
       "<Figure size 640x480 with 1 Axes>"
      ]
     },
     "metadata": {},
     "output_type": "display_data"
    }
   ],
   "source": [
    "# 손실 곡선 시각화\n",
    "plt.plot(losses, label='Training Loss')\n",
    "plt.xlabel('Epochs')\n",
    "plt.ylabel('Loss')\n",
    "plt.title('Training Loss with Early Stopping')\n",
    "plt.legend()\n",
    "plt.show()"
   ]
  },
  {
   "cell_type": "markdown",
   "metadata": {},
   "source": [
    "📌 1. 소프트맥스 회귀가 뭐야? 🤔\n",
    "소프트맥스 회귀는 다중 클래스 분류를 위한 알고리즘이에요.\n",
    "로지스틱 회귀는 \"두 개의 클래스(이진 분류)\"만 다룰 수 있죠?\n",
    "그런데 소프트맥스 회귀는 세 개 이상의 클래스를 분류할 수 있어요.\n",
    "예를 들어, 붓꽃 데이터셋에는 세 개의 붓꽃 품종이 있어요:\n",
    "Setosa (0)\n",
    "Versicolor (1)\n",
    "Virginica (2)\n",
    "소프트맥스 회귀는 각 클래스에 속할 확률을 계산하고, 확률이 가장 높은 클래스를 정답으로 예측해요.\n",
    "\n",
    "📌 2. 소프트맥스 함수가 뭐야? 🌟\n",
    "소프트맥스 회귀에서 사용하는 핵심 공식이에요!\n",
    "\n",
    "각 클래스에 대한 점수를 계산한 뒤, 소프트맥스 함수를 사용해서 확률로 변환해요.\n",
    "✅ 쉽게 말하면:\n",
    "\n",
    "각 클래스에 대해 점수를 매기고,\n",
    "이 점수를 0에서 1 사이의 확률로 변환해서,\n",
    "가장 확률이 높은 클래스를 예측해요.\n",
    "\n",
    "📌 3. 초기화는 왜 해? ⚙️\n",
    "경사 하강법을 사용하려면, 모델의 **가중치(θ, theta)**를 조정하면서 최적의 값으로 찾아가야 해요.\n",
    "그런데 처음에는 가중치가 없으니까 모든 가중치를 0 또는 작은 랜덤 값으로 초기화해요.\n",
    "초기화 없이 시작하면 모델이 학습을 시작할 수 없어요! 🚦\n",
    "📌 4. 손실 함수는 뭐야? 🧠\n",
    "모델이 얼마나 잘 예측하고 있는지 측정하려면, **손실 함수 (Loss Function)**가 필요해요.\n",
    "소프트맥스 회귀에서는 **크로스 엔트로피 손실 (Cross-Entropy Loss)**를 사용해요.\n",
    "\n",
    "✅ 쉽게 말하면:\n",
    "\n",
    "정답 클래스의 확률이 높을수록 손실이 작아지고,\n",
    "틀린 클래스의 확률이 높을수록 손실이 커져요.\n",
    "모델은 이 손실을 최소화하도록 학습합니다. 🚀\n",
    "\n",
    "📌 5. 경사 하강법은 뭐야? ⛰️\n",
    "모델이 예측을 잘하려면, 가중치를 계속 조정해야 해요.\n",
    "경사 하강법은 손실 함수가 가장 작아지는 방향으로 가중치를 조금씩 조정하는 알고리즘이에요.\n",
    "손실 함수의 기울기(= 경사)를 계산하고, 그 반대 방향으로 조금씩 이동하면서 최적의 가중치를 찾는 과정이에요.\n",
    "✅ 비유:\n",
    "경사 하강법은 마치 산을 내려가는 과정 같아요.\n",
    "\n",
    "산꼭대기(손실이 큰 상태)에서 출발해서,\n",
    "경사가 제일 가파른 방향으로 한 걸음씩 내려가면서,\n",
    "손실이 가장 작은 지점(골짜기)을 찾는 거죠! 🌄\n",
    "\n",
    "📌 6. 조기 종료는 왜 필요해? 🛠️\n",
    "경사 하강법은 손실이 작아질 때까지 계속 학습해요.\n",
    "하지만 너무 오래 학습하면, **훈련 데이터에는 잘 맞지만, 새로운 데이터에는 잘 작동하지 않는 \"과대적합\"**이 생길 수 있어요.\n",
    "이를 방지하려면, **검증 오차가 더 이상 줄어들지 않을 때 학습을 멈추는 \"조기 종료 (Early Stopping)\"**를 사용해요.\n",
    "이제 전체 흐름을 다시 정리해볼게요. 🚦\n",
    "\n",
    "가중치 초기화: 모델이 학습할 준비를 함.\n",
    "소프트맥스 함수: 각 클래스의 확률을 계산.\n",
    "손실 계산: 예측이 얼마나 잘 됐는지 측정.\n",
    "경사 하강법: 손실을 최소화하는 방향으로 가중치를 조정.\n",
    "조기 종료: 과대적합을 방지하기 위해 적절한 타이밍에 학습 중단."
   ]
  },
  {
   "cell_type": "code",
   "execution_count": null,
   "metadata": {},
   "outputs": [],
   "source": []
  }
 ],
 "metadata": {
  "kernelspec": {
   "display_name": "Python 3",
   "language": "python",
   "name": "python3"
  },
  "language_info": {
   "codemirror_mode": {
    "name": "ipython",
    "version": 3
   },
   "file_extension": ".py",
   "mimetype": "text/x-python",
   "name": "python",
   "nbconvert_exporter": "python",
   "pygments_lexer": "ipython3",
   "version": "3.8.5"
  }
 },
 "nbformat": 4,
 "nbformat_minor": 4
}
