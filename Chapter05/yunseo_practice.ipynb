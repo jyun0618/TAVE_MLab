{
 "cells": [
  {
   "cell_type": "markdown",
   "id": "f69763e8-0f80-4d67-8aee-95ddd5cfad14",
   "metadata": {},
   "source": [
    "### 5장_연습 문제 10번\n",
    "#OVA(One-Versus-All) 방식은 기본적으로 SVC가 자동으로 처리함(기본값)\n",
    "#OVA란? 다중 클래스를 이진 분류기 여러 개를 사용하여 분류하는 방식 중 하나이다. 하나의 클래스를 나머지 모든 클래스로부터 구별한다."
   ]
  },
  {
   "cell_type": "code",
   "execution_count": 9,
   "id": "a3068baa-2655-4802-a1be-740517caf343",
   "metadata": {},
   "outputs": [
    {
     "name": "stdout",
     "output_type": "stream",
     "text": [
      "Test Accuracy: 0.9444\n"
     ]
    }
   ],
   "source": [
    "from sklearn.datasets import load_wine\n",
    "from sklearn.svm import SVC\n",
    "from sklearn.pipeline import make_pipeline\n",
    "from sklearn.preprocessing import StandardScaler\n",
    "from sklearn.model_selection import train_test_split\n",
    "from sklearn.metrics import accuracy_score\n",
    "\n",
    "#데이터셋 가져오기\n",
    "wine = load_wine()\n",
    "X, y = wine.data, wine.target\n",
    "\n",
    "# 훈련데이터와 학습데이터로 나누기 (80% 훈련, 20% 학습)\n",
    "X_train, X_test, y_train, y_test = train_test_split(X, y, test_size=0.2, random_state=42, stratify=y)\n",
    "\n",
    "# SVM 분류기 모델 만들기\n",
    "kernel_svm_wine = make_pipeline(StandardScaler(), SVC(kernel=\"linear\", degree=3, coef0=1, C=1))\n",
    "\n",
    "# 훈련\n",
    "kernel_svm_wine.fit(X_train, y_train)\n",
    "\n",
    "# 예측\n",
    "y_pred = kernel_svm_wine.predict(X_test)\n",
    "\n",
    "# 정확도\n",
    "accuracy = accuracy_score(y_test, y_pred)\n",
    "print(f\"Test Accuracy: {accuracy:.4f}\")\n",
    "\n"
   ]
  },
  {
   "cell_type": "markdown",
   "id": "4c76ed2f-ddad-4fab-a9a8-a91516f9be0e",
   "metadata": {},
   "source": [
    "### 5장_연습 문제 9번\n",
    "정확도를 비교해보면 모두 비슷한 방식으로 학습되었다는걸 알 수 있음"
   ]
  },
  {
   "cell_type": "code",
   "execution_count": 8,
   "id": "13d72bc4-3645-4af2-9800-b705e40c0701",
   "metadata": {},
   "outputs": [
    {
     "name": "stdout",
     "output_type": "stream",
     "text": [
      "LinearSVC 정확도: 0.9649\n",
      "SVC (linear) 정확도: 0.9737\n",
      "SGDClassifier 정확도: 0.9649\n"
     ]
    }
   ],
   "source": [
    "\n",
    "#유방암 데이터(양성인지 음성인지 선형적으로 분리 가능)\n",
    "from sklearn.datasets import load_breast_cancer\n",
    "from sklearn.svm import LinearSVC, SVC\n",
    "from sklearn.linear_model import SGDClassifier\n",
    "from sklearn.preprocessing import StandardScaler\n",
    "from sklearn.pipeline import make_pipeline\n",
    "from sklearn.model_selection import train_test_split\n",
    "from sklearn.metrics import accuracy_score\n",
    "\n",
    "# 데이터 불러오기\n",
    "data = load_breast_cancer()\n",
    "X, y = data.data, data.target\n",
    "\n",
    "# 훈련 데이터와 테스트 데이터로 분리 (80% 훈련, 20% 테스트)\n",
    "X_train, X_test, y_train, y_test = train_test_split(X, y, test_size=0.2, random_state=42, stratify=y)\n",
    "\n",
    "# LinearSVC 모델\n",
    "svm_clf = make_pipeline(StandardScaler(), LinearSVC(C=1, random_state=42, max_iter=5000))\n",
    "svm_clf.fit(X_train, y_train)\n",
    "y_pred_svm = svm_clf.predict(X_test)\n",
    "acc_svm = accuracy_score(y_test, y_pred_svm)\n",
    "\n",
    "# SVC(kernel=\"linear\") 모델\n",
    "svc_clf = make_pipeline(StandardScaler(), SVC(kernel=\"linear\", C=1, random_state=42))\n",
    "svc_clf.fit(X_train, y_train)\n",
    "y_pred_svc = svc_clf.predict(X_test)\n",
    "acc_svc = accuracy_score(y_test, y_pred_svc)\n",
    "\n",
    "# SGDClassifier(loss=\"hinge\") 모델\n",
    "#확률적 경사 하강법(Stochastic Gradient Descent, SGD)을 사용한 선형 SVM\n",
    "# 데이터가 클 때는 SGDClassifier가 더 빠름.\n",
    "sgd_clf = make_pipeline(StandardScaler(), SGDClassifier(loss=\"hinge\", random_state=42, max_iter=5000, tol=1e-3))\n",
    "sgd_clf.fit(X_train, y_train)\n",
    "y_pred_sgd = sgd_clf.predict(X_test)\n",
    "acc_sgd = accuracy_score(y_test, y_pred_sgd)\n",
    "\n",
    "# 결과 출력\n",
    "print(f\"LinearSVC 정확도: {acc_svm:.4f}\")\n",
    "print(f\"SVC (linear) 정확도: {acc_svc:.4f}\")\n",
    "print(f\"SGDClassifier 정확도: {acc_sgd:.4f}\")\n",
    "\n"
   ]
  },
  {
   "cell_type": "code",
   "execution_count": null,
   "id": "2b56e460-f1aa-481c-b945-6c8ba07804e9",
   "metadata": {},
   "outputs": [],
   "source": []
  }
 ],
 "metadata": {
  "kernelspec": {
   "display_name": "Python 3 (ipykernel)",
   "language": "python",
   "name": "python3"
  },
  "language_info": {
   "codemirror_mode": {
    "name": "ipython",
    "version": 3
   },
   "file_extension": ".py",
   "mimetype": "text/x-python",
   "name": "python",
   "nbconvert_exporter": "python",
   "pygments_lexer": "ipython3",
   "version": "3.12.4"
  }
 },
 "nbformat": 4,
 "nbformat_minor": 5
}
