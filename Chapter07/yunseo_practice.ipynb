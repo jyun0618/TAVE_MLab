{
  "cells": [
    {
      "cell_type": "markdown",
      "metadata": {
        "id": "Ua8CqAqaaQXq"
      },
      "source": [
        "### 7장 6번\n",
        "AdaBoost가 과소적합되었을 때 학습률(learning_rate)을 높이거나 예측기의 개수(n_estimators)를 늘려야 함.\n",
        "그 이유는 learning_rate가 너무 낮으면 가중치 업데이트가 작아져서 모델이 충분히 학습하지 못해 과소적합이 발생할 수 있음.\n",
        "또한, 예측기 개수를 늘리면 학습을 더 많이 진행해서 과소적합 문제를 해결할 수 있음."
      ]
    },
    {
      "cell_type": "markdown",
      "metadata": {
        "id": "08VEcMI3bhjx"
      },
      "source": [
        "### 7장 7번\n",
        "\n",
        "그래이디언트 부스팅이 과대적합되었을 때 학습률을 낮추거나 예측기의 개수를 줄여야 함."
      ]
    },
    {
      "cell_type": "markdown",
      "metadata": {
        "id": "jaEmXl89blVu"
      },
      "source": [
        "### 7장 8번\n",
        "아래 코드 설명 : mnist 데이터를 불러온 후 개별 모델을 훈련한 것의 정확도와 앙상블 기법을 사용해서 훈련한 것의 정확도를 비교해보았습니다."
      ]
    },
    {
      "cell_type": "code",
      "execution_count": null,
      "metadata": {
        "colab": {
          "base_uri": "https://localhost:8080/"
        },
        "id": "8ipJLxL8SQeO",
        "outputId": "e196baf7-eccf-4475-9662-520ff258cf61"
      },
      "outputs": [
        {
          "name": "stdout",
          "output_type": "stream",
          "text": [
            "훈련 세트 크기: (50001, 784), 검증 세트 크기: (9999, 784), 테스트 세트 크기: (10000, 784)\n"
          ]
        }
      ],
      "source": [
        "from sklearn.datasets import fetch_openml\n",
        "from sklearn.model_selection import train_test_split\n",
        "\n",
        "# MNIST 데이터 불러오기\n",
        "mnist = fetch_openml('mnist_784', as_frame=False)\n",
        "X, y = mnist.data, mnist.target\n",
        "\n",
        "# 데이터를 숫자로 변환 (y가 문자열이므로 변환 필요)\n",
        "y = y.astype(int)\n",
        "\n",
        "# 전체 데이터 개수: 70,000개\n",
        "# 1. 훈련 (50,000개) + 검증 (10,000개) + 테스트 (10,000개) 세트로 나누기\n",
        "X_train, X_temp, y_train, y_temp = train_test_split(X, y, test_size=0.2857, random_state=42, stratify=y)\n",
        "X_valid, X_test, y_valid, y_test = train_test_split(X_temp, y_temp, test_size=0.5, random_state=42, stratify=y_temp)\n",
        "\n",
        "# 데이터 크기 확인\n",
        "print(f\"훈련 세트 크기: {X_train.shape}, 검증 세트 크기: {X_valid.shape}, 테스트 세트 크기: {X_test.shape}\")"
      ]
    },
    {
      "cell_type": "code",
      "execution_count": null,
      "metadata": {
        "id": "iJi6fb22UDz4"
      },
      "outputs": [],
      "source": [
        "from sklearn.ensemble import RandomForestClassifier\n",
        "\n",
        "rnd_clf = RandomForestClassifier(n_estimators=100, random_state=42)\n",
        "rnd_clf.fit(X_train, y_train)\n",
        "\n",
        "y_pred_rf = rnd_clf.predict(X_train)"
      ]
    },
    {
      "cell_type": "code",
      "execution_count": null,
      "metadata": {
        "id": "Vqdt6x-eUuhv"
      },
      "outputs": [],
      "source": [
        "from sklearn.ensemble import ExtraTreesClassifier\n",
        "\n",
        "ext_clf = ExtraTreesClassifier(n_estimators=100, random_state=42)\n",
        "ext_clf.fit(X_train, y_train)\n",
        "\n",
        "y_pred_ext = ext_clf.predict(X_train)"
      ]
    },
    {
      "cell_type": "code",
      "execution_count": null,
      "metadata": {
        "id": "hjl5nt-HVN8o"
      },
      "outputs": [],
      "source": [
        "from sklearn.pipeline import make_pipeline\n",
        "from sklearn.preprocessing import StandardScaler\n",
        "from sklearn.svm import LinearSVC\n",
        "\n",
        "svm_clf = make_pipeline(StandardScaler(), LinearSVC(gamma='auto'))\n",
        "svm_clf.fit(X_train, y_train)\n",
        "\n",
        "y_pred_svm = svm_clf.predict(X_train)"
      ]
    },
    {
      "cell_type": "code",
      "execution_count": null,
      "metadata": {
        "colab": {
          "base_uri": "https://localhost:8080/"
        },
        "id": "61WVMZ89WXfH",
        "outputId": "d14b35fc-2301-4861-8a54-3d3350817e34"
      },
      "outputs": [
        {
          "name": "stdout",
          "output_type": "stream",
          "text": [
            "RandomForest 정확도: 0.9640964096409641\n",
            "ExtraTrees 정확도: 0.9672967296729673\n",
            "SVM 정확도: 0.9204920492049204\n"
          ]
        }
      ],
      "source": [
        "from sklearn.ensemble import RandomForestClassifier, ExtraTreesClassifier, VotingClassifier\n",
        "from sklearn.svm import SVC\n",
        "from sklearn.pipeline import make_pipeline\n",
        "from sklearn.preprocessing import StandardScaler\n",
        "from sklearn.metrics import accuracy_score\n",
        "from sklearn.model_selection import train_test_split\n",
        "from sklearn.datasets import fetch_openml\n",
        "\n",
        "# 1. 데이터 불러오기 및 분할\n",
        "mnist = fetch_openml('mnist_784', as_frame=False)\n",
        "X, y = mnist.data, mnist.target.astype(int)\n",
        "\n",
        "# 훈련 (50,000개), 검증 (10,000개), 테스트 (10,000개) 세트 분할\n",
        "X_train, X_temp, y_train, y_temp = train_test_split(X, y, test_size=0.2857, random_state=42, stratify=y)\n",
        "X_valid, X_test, y_valid, y_test = train_test_split(X_temp, y_temp, test_size=0.5, random_state=42, stratify=y_temp)\n",
        "\n",
        "# 2. 개별 모델 훈련 (랜덤포레스트 분류기, 엑스트라 트리 분류기, SVM 분류기)\n",
        "rnd_clf = RandomForestClassifier(n_estimators=100, random_state=42)\n",
        "ext_clf = ExtraTreesClassifier(n_estimators=100, random_state=42)\n",
        "svm_clf = make_pipeline(StandardScaler(), SVC(kernel=\"linear\", random_state=42))\n",
        "\n",
        "# 모델 학습\n",
        "rnd_clf.fit(X_train, y_train)\n",
        "ext_clf.fit(X_train, y_train)\n",
        "svm_clf.fit(X_train, y_train)\n",
        "\n",
        "# 검증 세트에서 개별 모델 성능 확인\n",
        "y_valid_pred_rf = rnd_clf.predict(X_valid)\n",
        "y_valid_pred_ext = ext_clf.predict(X_valid)\n",
        "y_valid_pred_svm = svm_clf.predict(X_valid)\n",
        "\n",
        "print(\"RandomForest 정확도:\", accuracy_score(y_valid, y_valid_pred_rf))\n",
        "print(\"ExtraTrees 정확도:\", accuracy_score(y_valid, y_valid_pred_ext))\n",
        "print(\"SVM 정확도:\", accuracy_score(y_valid, y_valid_pred_svm))\n"
      ]
    },
    {
      "cell_type": "code",
      "execution_count": null,
      "metadata": {
        "colab": {
          "background_save": true
        },
        "id": "NZ0ZBLEjXmfg",
        "outputId": "b5ef0b96-ec5e-469a-8170-dea280968826"
      },
      "outputs": [
        {
          "name": "stdout",
          "output_type": "stream",
          "text": [
            "앙상블 정확도: 0.9664966496649665\n"
          ]
        }
      ],
      "source": [
        "# 3. 앙상블 분류기 생성 (Soft Voting) => 간접 투표 방식\n",
        "voting_clf = VotingClassifier(\n",
        "    estimators=[\n",
        "        (\"rf\", rnd_clf),\n",
        "        (\"ext\", ext_clf),\n",
        "        (\"svm\", svm_clf)\n",
        "    ],\n",
        "    voting=\"hard\"  # soft voting: 각 모델의 확률값 평균을 사용\n",
        ")\n",
        "\n",
        "# 앙상블 모델 학습\n",
        "voting_clf.fit(X_train, y_train)\n",
        "\n",
        "# 검증 세트에서 성능 평가\n",
        "y_valid_pred_voting = voting_clf.predict(X_valid)\n",
        "print(\"앙상블 정확도:\", accuracy_score(y_valid, y_valid_pred_voting))\n"
      ]
    },
    {
      "cell_type": "code",
      "execution_count": null,
      "metadata": {
        "id": "u_K0T6viXqAI"
      },
      "outputs": [],
      "source": []
    }
  ],
  "metadata": {
    "colab": {
      "provenance": []
    },
    "kernelspec": {
      "display_name": "Python 3",
      "name": "python3"
    },
    "language_info": {
      "name": "python"
    }
  },
  "nbformat": 4,
  "nbformat_minor": 0
}
